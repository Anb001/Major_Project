{
 "cells": [
  {
   "cell_type": "code",
   "execution_count": 17,
   "outputs": [],
   "source": [
    "import os\n",
    "import cv2\n",
    "import numpy as np\n",
    "import pandas as pd\n",
    "from sklearn.model_selection import train_test_split\n",
    "from tqdm import tqdm"
   ],
   "metadata": {
    "collapsed": false,
    "ExecuteTime": {
     "end_time": "2025-03-25T22:11:37.141354Z",
     "start_time": "2025-03-25T22:11:37.130846Z"
    }
   },
   "id": "fa1173efc382dd2f"
  },
  {
   "cell_type": "code",
   "execution_count": 18,
   "outputs": [],
   "source": [
    "csv_file = \"eye_diagrams_metadata.csv\"\n",
    "df = pd.read_csv(csv_file)"
   ],
   "metadata": {
    "collapsed": false,
    "ExecuteTime": {
     "end_time": "2025-03-25T22:11:38.137462Z",
     "start_time": "2025-03-25T22:11:38.123820Z"
    }
   },
   "id": "44973d8ade26f14b"
  },
  {
   "cell_type": "code",
   "execution_count": 19,
   "outputs": [],
   "source": [
    "input_folder = \"Dataset\"\n",
    "output_folder = \"preprocessed\"\n",
    "train_folder = os.path.join(output_folder, \"train\")\n",
    "test_folder = os.path.join(output_folder, \"test\")"
   ],
   "metadata": {
    "collapsed": false,
    "ExecuteTime": {
     "end_time": "2025-03-25T22:11:38.629324Z",
     "start_time": "2025-03-25T22:11:38.621097Z"
    }
   },
   "id": "bd096cc83a63118"
  },
  {
   "cell_type": "code",
   "execution_count": 20,
   "outputs": [],
   "source": [
    "IMG_SIZE = (224, 224)  # Resize all images to 224x224\n",
    "TEST_SIZE = 0.2  # 20% of images will be for testing\n",
    "\n",
    "# Ensure output folders exist\n",
    "for folder in [output_folder, train_folder, test_folder]:\n",
    "    os.makedirs(folder, exist_ok=True)\n",
    "\n",
    "# Split dataset into train & test\n",
    "train_df, test_df = train_test_split(df, test_size=TEST_SIZE, stratify=df[\"OSNR_dB\"], random_state=42)"
   ],
   "metadata": {
    "collapsed": false,
    "ExecuteTime": {
     "end_time": "2025-03-25T22:11:38.990228Z",
     "start_time": "2025-03-25T22:11:38.982339Z"
    }
   },
   "id": "ff9934d37338578a"
  },
  {
   "cell_type": "code",
   "execution_count": 21,
   "id": "initial_id",
   "metadata": {
    "collapsed": true,
    "ExecuteTime": {
     "end_time": "2025-03-25T22:11:47.485592Z",
     "start_time": "2025-03-25T22:11:39.625621Z"
    }
   },
   "outputs": [
    {
     "name": "stderr",
     "output_type": "stream",
     "text": [
      "Processing Train images: 100%|██████████| 489/489 [00:06<00:00, 77.59it/s]\n",
      "Processing Test images: 100%|██████████| 123/123 [00:01<00:00, 79.49it/s]"
     ]
    },
    {
     "name": "stdout",
     "output_type": "stream",
     "text": [
      "✅ Image preprocessing completed!\n",
      "Total Train Images: 489\n",
      "Total Test Images: 123\n"
     ]
    },
    {
     "name": "stderr",
     "output_type": "stream",
     "text": [
      "\n"
     ]
    }
   ],
   "source": [
    "def process_and_save(df_subset, subset_name, output_path):\n",
    "    for _, row in tqdm(df_subset.iterrows(), total=len(df_subset), desc=f\"Processing {subset_name} images\"):\n",
    "        filename = row[\"Filename\"]\n",
    "        input_path = os.path.join(input_folder, filename)\n",
    "        output_file = os.path.join(output_path, filename.replace(\".png\", \".npy\"))  # Fix output file path\n",
    "\n",
    "        # Read image\n",
    "        image = cv2.imread(input_path, cv2.IMREAD_GRAYSCALE)  # Convert to grayscale\n",
    "        if image is None:\n",
    "            print(f\"⚠️ Skipping: {filename} (File not found)\")\n",
    "            continue\n",
    "        \n",
    "        # Resize image\n",
    "        image = cv2.resize(image, IMG_SIZE)\n",
    "\n",
    "        # Normalize pixel values (0 to 1)\n",
    "        image = image / 255.0\n",
    "\n",
    "        # Save processed image as numpy array\n",
    "        np.save(output_file, image)  # Save as .npy (faster for ML)\n",
    "\n",
    "# Process train and test images\n",
    "process_and_save(train_df, \"Train\", train_folder)\n",
    "process_and_save(test_df, \"Test\", test_folder)\n",
    "\n",
    "print(\"✅ Image preprocessing completed!\")\n",
    "print(f\"Total Train Images: {len(train_df)}\")\n",
    "print(f\"Total Test Images: {len(test_df)}\")"
   ]
  },
  {
   "cell_type": "code",
   "execution_count": null,
   "outputs": [],
   "source": [],
   "metadata": {
    "collapsed": false
   },
   "id": "9731ec7a6f945c7d"
  }
 ],
 "metadata": {
  "kernelspec": {
   "display_name": "Python 3",
   "language": "python",
   "name": "python3"
  },
  "language_info": {
   "codemirror_mode": {
    "name": "ipython",
    "version": 2
   },
   "file_extension": ".py",
   "mimetype": "text/x-python",
   "name": "python",
   "nbconvert_exporter": "python",
   "pygments_lexer": "ipython2",
   "version": "2.7.6"
  }
 },
 "nbformat": 4,
 "nbformat_minor": 5
}
