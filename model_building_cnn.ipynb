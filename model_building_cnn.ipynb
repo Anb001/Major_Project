{
 "cells": [
  {
   "cell_type": "code",
   "execution_count": 32,
   "id": "initial_id",
   "metadata": {
    "collapsed": true,
    "ExecuteTime": {
     "end_time": "2025-03-25T22:14:20.355612Z",
     "start_time": "2025-03-25T22:14:20.350849Z"
    }
   },
   "outputs": [],
   "source": [
    "import os\n",
    "import numpy as np\n",
    "import pandas as pd\n",
    "import tensorflow as tf\n",
    "from tensorflow.keras.models import Sequential\n",
    "from tensorflow.keras.layers import Conv2D, MaxPooling2D, Flatten, Dense, Dropout\n",
    "from tensorflow.keras.preprocessing.image import ImageDataGenerator\n",
    "from sklearn.metrics import mean_absolute_error, mean_squared_error, r2_score\n",
    "from sklearn.model_selection import train_test_split\n",
    "import matplotlib.pyplot as plt \n",
    "from sklearn.preprocessing import StandardScaler\n",
    "from tqdm import tqdm"
   ]
  },
  {
   "cell_type": "code",
   "execution_count": 33,
   "outputs": [],
   "source": [
    "csv_file = \"eye_diagrams_metadata.csv\"\n",
    "df = pd.read_csv(csv_file)\n",
    "\n",
    "# Define paths\n",
    "train_folder = \"preprocessed/train\"\n",
    "test_folder = \"preprocessed/test\"\n",
    "\n",
    "# Change target variable to OSNR_dB\n",
    "target_variable = \"OSNR_dB\"\n"
   ],
   "metadata": {
    "collapsed": false,
    "ExecuteTime": {
     "end_time": "2025-03-25T22:14:21.561844Z",
     "start_time": "2025-03-25T22:14:21.523841Z"
    }
   },
   "id": "a28c7bf27dc88cb8"
  },
  {
   "cell_type": "code",
   "execution_count": 34,
   "outputs": [],
   "source": [
    "train_df, test_df = train_test_split(df, test_size=0.2, stratify=df[\"OSNR_dB\"], random_state=42)\n",
    "\n",
    "# Image size and batch size\n",
    "IMG_SIZE = (224, 224)\n",
    "BATCH_SIZE = 32"
   ],
   "metadata": {
    "collapsed": false,
    "ExecuteTime": {
     "end_time": "2025-03-25T22:14:31.388391Z",
     "start_time": "2025-03-25T22:14:31.380268Z"
    }
   },
   "id": "ff05477957a8b6e8"
  },
  {
   "cell_type": "code",
   "execution_count": 35,
   "outputs": [
    {
     "name": "stderr",
     "output_type": "stream",
     "text": [
      "Loading images from preprocessed/train: 100%|██████████| 489/489 [00:00<00:00, 1431.21it/s]\n",
      "Loading images from preprocessed/test: 100%|██████████| 123/123 [00:00<00:00, 1594.05it/s]\n"
     ]
    }
   ],
   "source": [
    "def load_images_and_labels(folder, df_subset):\n",
    "    images = []\n",
    "    labels = []\n",
    "    \n",
    "    for _, row in tqdm(df_subset.iterrows(), total=len(df_subset), desc=f\"Loading images from {folder}\"):\n",
    "        filename = row[\"Filename\"].replace(\".png\", \".npy\")  # Adjust filename for .npy\n",
    "        file_path = os.path.join(folder, filename)\n",
    "        \n",
    "        if not os.path.exists(file_path):\n",
    "            print(f\"⚠️ Skipping missing file: {filename}\")\n",
    "            continue\n",
    "        \n",
    "        # Load image\n",
    "        image = np.load(file_path)\n",
    "        image = np.expand_dims(image, axis=-1)  # Add channel dimension for CNN\n",
    "\n",
    "        images.append(image)\n",
    "        labels.append(row[target_variable])  # OSNR_dB values\n",
    "    \n",
    "    return np.array(images), np.array(labels)\n",
    "\n",
    "# Load dataset\n",
    "X_train, y_train = load_images_and_labels(train_folder, train_df)\n",
    "X_test, y_test = load_images_and_labels(test_folder, test_df)\n"
   ],
   "metadata": {
    "collapsed": false,
    "ExecuteTime": {
     "end_time": "2025-03-25T22:14:35.523698Z",
     "start_time": "2025-03-25T22:14:34.901915Z"
    }
   },
   "id": "ff2cea5037265444"
  },
  {
   "cell_type": "code",
   "execution_count": 36,
   "outputs": [],
   "source": [
    "X_train = X_train / 255.0\n",
    "X_test = X_test / 255.0\n",
    "\n",
    "# Standardize labels (OSNR values)\n",
    "scaler = StandardScaler()\n",
    "y_train = scaler.fit_transform(y_train.reshape(-1, 1))\n",
    "y_test = scaler.transform(y_test.reshape(-1, 1))"
   ],
   "metadata": {
    "collapsed": false,
    "ExecuteTime": {
     "end_time": "2025-03-25T22:14:40.555338Z",
     "start_time": "2025-03-25T22:14:40.374426Z"
    }
   },
   "id": "6691ceea8e6f8698"
  },
  {
   "cell_type": "code",
   "execution_count": 37,
   "outputs": [],
   "source": [
    "datagen = ImageDataGenerator(rotation_range=15, width_shift_range=0.1, height_shift_range=0.1, zoom_range=0.1)\n",
    "datagen.fit(X_train)"
   ],
   "metadata": {
    "collapsed": false,
    "ExecuteTime": {
     "end_time": "2025-03-25T22:14:46.908723Z",
     "start_time": "2025-03-25T22:14:46.765336Z"
    }
   },
   "id": "1415f5eed737518a"
  },
  {
   "cell_type": "code",
   "execution_count": 38,
   "outputs": [
    {
     "name": "stderr",
     "output_type": "stream",
     "text": [
      "WARNING:absl:At this time, the v2.11+ optimizer `tf.keras.optimizers.Adam` runs slowly on M1/M2 Macs, please use the legacy Keras optimizer instead, located at `tf.keras.optimizers.legacy.Adam`.\n"
     ]
    }
   ],
   "source": [
    "from tensorflow.keras.optimizers import Adam\n",
    "from tensorflow.keras.losses import Huber\n",
    "\n",
    "model = Sequential([\n",
    "    Conv2D(64, (3, 3), activation='relu', input_shape=(224, 224, 1)),\n",
    "    MaxPooling2D((2, 2)),\n",
    "    \n",
    "    Conv2D(128, (3, 3), activation='relu'),\n",
    "    MaxPooling2D((2, 2)),\n",
    "\n",
    "    Conv2D(256, (3, 3), activation='relu'),\n",
    "    MaxPooling2D((2, 2)),\n",
    "\n",
    "    Conv2D(512, (3, 3), activation='relu'),  # Added another Conv layer\n",
    "    MaxPooling2D((2, 2)),\n",
    "\n",
    "    Flatten(),\n",
    "    Dense(512, activation='relu'),\n",
    "    Dropout(0.5),\n",
    "    Dense(256, activation='relu'),\n",
    "    Dropout(0.4),\n",
    "    Dense(128, activation='relu'),\n",
    "    Dense(1, activation='linear')  # Linear activation for regression\n",
    "])\n",
    "\n",
    "# Compile the model using Huber Loss (better for regression)\n",
    "model.compile(optimizer=Adam(learning_rate=0.0001), loss=Huber(), metrics=['mae'])"
   ],
   "metadata": {
    "collapsed": false,
    "ExecuteTime": {
     "end_time": "2025-03-25T22:14:48.317422Z",
     "start_time": "2025-03-25T22:14:47.714656Z"
    }
   },
   "id": "a4d68202589c1bf5"
  },
  {
   "cell_type": "code",
   "execution_count": null,
   "outputs": [
    {
     "name": "stdout",
     "output_type": "stream",
     "text": [
      "\n",
      "🚀 Training Improved CNN Model for OSNR Prediction...\n",
      "Epoch 1/10\n",
      "16/16 [==============================] - 89s 5s/step - loss: 0.4505 - mae: 0.8253 - val_loss: 0.4525 - val_mae: 0.8255\n",
      "Epoch 2/10\n",
      "16/16 [==============================] - 89s 6s/step - loss: 0.4494 - mae: 0.8282 - val_loss: 0.4522 - val_mae: 0.8321\n",
      "Epoch 3/10\n",
      "16/16 [==============================] - 92s 6s/step - loss: 0.4489 - mae: 0.8285 - val_loss: 0.4522 - val_mae: 0.8326\n",
      "Epoch 4/10\n",
      "16/16 [==============================] - 87s 5s/step - loss: 0.4530 - mae: 0.8369 - val_loss: 0.4524 - val_mae: 0.8362\n",
      "Epoch 5/10\n",
      "16/16 [==============================] - 95s 6s/step - loss: 0.4491 - mae: 0.8321 - val_loss: 0.4522 - val_mae: 0.8327\n",
      "Epoch 6/10\n",
      "16/16 [==============================] - 106s 7s/step - loss: 0.4491 - mae: 0.8297 - val_loss: 0.4524 - val_mae: 0.8357\n",
      "Epoch 7/10\n",
      " 8/16 [==============>...............] - ETA: 49s - loss: 0.4724 - mae: 0.8562"
     ]
    }
   ],
   "source": [
    "print(\"\\n🚀 Training Improved CNN Model for OSNR Prediction...\")\n",
    "history = model.fit(datagen.flow(X_train, y_train, batch_size=BATCH_SIZE), \n",
    "                    epochs=10, \n",
    "                    validation_data=(X_test, y_test))\n",
    "\n",
    "# Evaluate the model\n",
    "loss, mae = model.evaluate(X_test, y_test)\n",
    "y_pred = model.predict(X_test)"
   ],
   "metadata": {
    "collapsed": false,
    "is_executing": true,
    "ExecuteTime": {
     "start_time": "2025-03-25T22:14:50.197180Z"
    }
   },
   "id": "b5df63412da557ef"
  },
  {
   "cell_type": "code",
   "execution_count": null,
   "outputs": [],
   "source": [
    "# Convert back from standardized values\n",
    "y_test_actual = scaler.inverse_transform(y_test)\n",
    "y_pred_actual = scaler.inverse_transform(y_pred)\n",
    "\n",
    "# Calculate additional accuracy metrics\n",
    "mae_actual = mean_absolute_error(y_test_actual, y_pred_actual)\n",
    "mse_actual = mean_squared_error(y_test_actual, y_pred_actual)\n",
    "r2 = r2_score(y_test_actual, y_pred_actual)\n",
    "\n",
    "# Print accuracy metrics\n",
    "print(\"\\n✅ CNN OSNR Prediction Model Evaluation:\")\n",
    "print(f\"📏 Mean Absolute Error (MAE): {mae_actual:.4f}\")\n",
    "print(f\"📏 Mean Squared Error (MSE): {mse_actual:.4f}\")\n",
    "print(f\"📏 R² Score: {r2:.4f} (Closer to 1 is better)\")"
   ],
   "metadata": {
    "collapsed": false,
    "is_executing": true
   },
   "id": "2abb722f61164177"
  },
  {
   "cell_type": "code",
   "execution_count": null,
   "outputs": [],
   "source": [
    "# Save the trained model\n",
    "model.save(\"cnn_osnr_model.h5\")\n",
    "print(\"✅ CNN model saved as 'cnn_osnr_model.h5'\")"
   ],
   "metadata": {
    "collapsed": false,
    "is_executing": true
   },
   "id": "bf2171686ecd3b38"
  },
  {
   "cell_type": "code",
   "execution_count": null,
   "outputs": [],
   "source": [
    "plt.figure(figsize=(8, 6))\n",
    "plt.scatter(y_test_actual, y_pred_actual, alpha=0.5, color='blue')\n",
    "plt.plot([min(y_test_actual), max(y_test_actual)], [min(y_test_actual), max(y_test_actual)], linestyle='--', color='red')\n",
    "plt.xlabel(\"Actual OSNR (dB)\")\n",
    "plt.ylabel(\"Predicted OSNR (dB)\")\n",
    "plt.title(\"Actual vs Predicted OSNR Values\")\n",
    "plt.show()"
   ],
   "metadata": {
    "collapsed": false,
    "is_executing": true
   },
   "id": "ebe2e1cac57f9802"
  },
  {
   "cell_type": "code",
   "execution_count": null,
   "outputs": [],
   "source": [],
   "metadata": {
    "collapsed": false
   },
   "id": "42c398a2e43fde88"
  }
 ],
 "metadata": {
  "kernelspec": {
   "display_name": "Python 3",
   "language": "python",
   "name": "python3"
  },
  "language_info": {
   "codemirror_mode": {
    "name": "ipython",
    "version": 2
   },
   "file_extension": ".py",
   "mimetype": "text/x-python",
   "name": "python",
   "nbconvert_exporter": "python",
   "pygments_lexer": "ipython2",
   "version": "2.7.6"
  }
 },
 "nbformat": 4,
 "nbformat_minor": 5
}
