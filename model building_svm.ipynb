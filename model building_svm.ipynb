{
 "cells": [
  {
   "cell_type": "code",
   "execution_count": 1,
   "outputs": [],
   "source": [
    "import os\n",
    "import numpy as np\n",
    "import pandas as pd\n",
    "import cv2\n",
    "from sklearn.model_selection import train_test_split\n",
    "from sklearn.preprocessing import StandardScaler\n",
    "from sklearn.svm import SVR\n",
    "from sklearn.ensemble import RandomForestRegressor\n",
    "from sklearn.neighbors import KNeighborsRegressor\n",
    "from sklearn.metrics import mean_absolute_error, mean_squared_error, r2_score\n",
    "from skimage.feature import graycomatrix, graycoprops\n",
    "from tqdm import tqdm"
   ],
   "metadata": {
    "collapsed": false,
    "ExecuteTime": {
     "end_time": "2025-03-25T22:13:54.407243Z",
     "start_time": "2025-03-25T22:13:49.419461Z"
    }
   },
   "id": "b000f4ea2333d52e"
  },
  {
   "cell_type": "code",
   "execution_count": 2,
   "outputs": [],
   "source": [
    "csv_file = \"eye_diagrams_metadata.csv\"\n",
    "df = pd.read_csv(csv_file)\n",
    "\n",
    "# Define paths\n",
    "train_folder = \"preprocessed/train\"\n",
    "test_folder = \"preprocessed/test\"\n",
    "\n",
    "# Change target variable to OSNR_dB\n",
    "target_variable = \"OSNR_dB\"  # We're now predicting OSNR levels"
   ],
   "metadata": {
    "collapsed": false,
    "ExecuteTime": {
     "end_time": "2025-03-25T22:13:55.841706Z",
     "start_time": "2025-03-25T22:13:55.782767Z"
    }
   },
   "id": "f9f514961e86bec"
  },
  {
   "cell_type": "code",
   "execution_count": 3,
   "outputs": [],
   "source": [
    "train_df, test_df = train_test_split(df, test_size=0.2, stratify=df[\"OSNR_dB\"], random_state=42)"
   ],
   "metadata": {
    "collapsed": false,
    "ExecuteTime": {
     "end_time": "2025-03-25T22:13:56.710946Z",
     "start_time": "2025-03-25T22:13:56.702583Z"
    }
   },
   "id": "fc50ff0b3bd45b16"
  },
  {
   "cell_type": "code",
   "execution_count": 4,
   "outputs": [],
   "source": [
    "def histogram_features(image, bins=16):\n",
    "    image_uint8 = (image * 255).astype(np.uint8)  # Convert from float to uint8 (0-255)\n",
    "    hist = cv2.calcHist([image_uint8], [0], None, [bins], [0, 256])  # Compute histogram\n",
    "    hist = cv2.normalize(hist, hist).flatten()  # Normalize & flatten\n",
    "    return hist\n",
    "\n",
    "\n",
    "# Function to extract Fourier Transform features\n",
    "def fourier_transform_features(image):\n",
    "    f_transform = np.fft.fft2(image)\n",
    "    f_shift = np.fft.fftshift(f_transform)\n",
    "    magnitude_spectrum = 20 * np.log(np.abs(f_shift) + 1)  # Avoid log(0)\n",
    "    return [np.mean(magnitude_spectrum), np.var(magnitude_spectrum)]  # Mean & variance of frequency components\n",
    "\n",
    "# Function to extract GLCM texture features\n",
    "def glcm_features(image):\n",
    "    glcm = graycomatrix(image.astype(np.uint8), distances=[1], angles=[0], levels=256, symmetric=True, normed=True)\n",
    "    contrast = graycoprops(glcm, 'contrast')[0, 0]\n",
    "    correlation = graycoprops(glcm, 'correlation')[0, 0]\n",
    "    energy = graycoprops(glcm, 'energy')[0, 0]\n",
    "    entropy = -np.sum(glcm * np.log2(glcm + 1e-9))  # Compute entropy\n",
    "    return [contrast, correlation, energy, entropy]"
   ],
   "metadata": {
    "collapsed": false,
    "ExecuteTime": {
     "end_time": "2025-03-25T22:13:57.893041Z",
     "start_time": "2025-03-25T22:13:57.877579Z"
    }
   },
   "id": "4bdf8ca72d80296b"
  },
  {
   "cell_type": "code",
   "execution_count": 5,
   "outputs": [
    {
     "name": "stderr",
     "output_type": "stream",
     "text": [
      "Processing preprocessed/train: 100%|██████████| 489/489 [00:02<00:00, 197.12it/s]\n",
      "Processing preprocessed/test: 100%|██████████| 123/123 [00:00<00:00, 170.84it/s]\n"
     ]
    }
   ],
   "source": [
    "def extract_features_and_labels(folder, df_subset):\n",
    "    features = []\n",
    "    labels = []\n",
    "    \n",
    "    for _, row in tqdm(df_subset.iterrows(), total=len(df_subset), desc=f\"Processing {folder}\"):\n",
    "        filename = row[\"Filename\"].replace(\".png\", \".npy\")  # Adjust filename for .npy\n",
    "        file_path = os.path.join(folder, filename)\n",
    "        \n",
    "        if not os.path.exists(file_path):\n",
    "            print(f\"⚠️ Skipping missing file: {filename}\")\n",
    "            continue\n",
    "        \n",
    "        # Load image\n",
    "        image = np.load(file_path)\n",
    "        \n",
    "        # Compute features\n",
    "        mean_intensity = np.mean(image)\n",
    "        variance = np.var(image)\n",
    "        edge_density = np.sum(cv2.Canny((image * 255).astype(np.uint8), 100, 200)) / image.size\n",
    "        \n",
    "        hist_feats = histogram_features(image)\n",
    "        fft_feats = fourier_transform_features(image)\n",
    "        glcm_feats = glcm_features(image)\n",
    "\n",
    "        # Store extracted features\n",
    "        features.append([mean_intensity, variance, edge_density] + list(hist_feats) + list(fft_feats) + list(glcm_feats))\n",
    "        labels.append(row[target_variable])  # OSNR_dB values\n",
    "    \n",
    "    return np.array(features), np.array(labels)\n",
    "\n",
    "# Extract features from train & test sets\n",
    "X_train, y_train = extract_features_and_labels(train_folder, train_df)\n",
    "X_test, y_test = extract_features_and_labels(test_folder, test_df)"
   ],
   "metadata": {
    "collapsed": false,
    "ExecuteTime": {
     "end_time": "2025-03-25T22:14:02.217454Z",
     "start_time": "2025-03-25T22:13:58.971724Z"
    }
   },
   "id": "c4d45eb1cf686e3f"
  },
  {
   "cell_type": "code",
   "execution_count": 6,
   "outputs": [],
   "source": [
    "scaler = StandardScaler()\n",
    "X_train = scaler.fit_transform(X_train)\n",
    "X_test = scaler.transform(X_test)"
   ],
   "metadata": {
    "collapsed": false,
    "ExecuteTime": {
     "end_time": "2025-03-25T22:14:03.512457Z",
     "start_time": "2025-03-25T22:14:03.503251Z"
    }
   },
   "id": "73afc48750d8fe29"
  },
  {
   "cell_type": "code",
   "execution_count": 7,
   "id": "initial_id",
   "metadata": {
    "collapsed": true,
    "ExecuteTime": {
     "end_time": "2025-03-25T22:14:04.751341Z",
     "start_time": "2025-03-25T22:14:04.645333Z"
    }
   },
   "outputs": [
    {
     "name": "stdout",
     "output_type": "stream",
     "text": [
      "\n",
      "🚀 Training OSNR Prediction Model...\n"
     ]
    },
    {
     "data": {
      "text/plain": "SVR(C=100, gamma=0.1)",
      "text/html": "<style>#sk-container-id-1 {color: black;}#sk-container-id-1 pre{padding: 0;}#sk-container-id-1 div.sk-toggleable {background-color: white;}#sk-container-id-1 label.sk-toggleable__label {cursor: pointer;display: block;width: 100%;margin-bottom: 0;padding: 0.3em;box-sizing: border-box;text-align: center;}#sk-container-id-1 label.sk-toggleable__label-arrow:before {content: \"▸\";float: left;margin-right: 0.25em;color: #696969;}#sk-container-id-1 label.sk-toggleable__label-arrow:hover:before {color: black;}#sk-container-id-1 div.sk-estimator:hover label.sk-toggleable__label-arrow:before {color: black;}#sk-container-id-1 div.sk-toggleable__content {max-height: 0;max-width: 0;overflow: hidden;text-align: left;background-color: #f0f8ff;}#sk-container-id-1 div.sk-toggleable__content pre {margin: 0.2em;color: black;border-radius: 0.25em;background-color: #f0f8ff;}#sk-container-id-1 input.sk-toggleable__control:checked~div.sk-toggleable__content {max-height: 200px;max-width: 100%;overflow: auto;}#sk-container-id-1 input.sk-toggleable__control:checked~label.sk-toggleable__label-arrow:before {content: \"▾\";}#sk-container-id-1 div.sk-estimator input.sk-toggleable__control:checked~label.sk-toggleable__label {background-color: #d4ebff;}#sk-container-id-1 div.sk-label input.sk-toggleable__control:checked~label.sk-toggleable__label {background-color: #d4ebff;}#sk-container-id-1 input.sk-hidden--visually {border: 0;clip: rect(1px 1px 1px 1px);clip: rect(1px, 1px, 1px, 1px);height: 1px;margin: -1px;overflow: hidden;padding: 0;position: absolute;width: 1px;}#sk-container-id-1 div.sk-estimator {font-family: monospace;background-color: #f0f8ff;border: 1px dotted black;border-radius: 0.25em;box-sizing: border-box;margin-bottom: 0.5em;}#sk-container-id-1 div.sk-estimator:hover {background-color: #d4ebff;}#sk-container-id-1 div.sk-parallel-item::after {content: \"\";width: 100%;border-bottom: 1px solid gray;flex-grow: 1;}#sk-container-id-1 div.sk-label:hover label.sk-toggleable__label {background-color: #d4ebff;}#sk-container-id-1 div.sk-serial::before {content: \"\";position: absolute;border-left: 1px solid gray;box-sizing: border-box;top: 0;bottom: 0;left: 50%;z-index: 0;}#sk-container-id-1 div.sk-serial {display: flex;flex-direction: column;align-items: center;background-color: white;padding-right: 0.2em;padding-left: 0.2em;position: relative;}#sk-container-id-1 div.sk-item {position: relative;z-index: 1;}#sk-container-id-1 div.sk-parallel {display: flex;align-items: stretch;justify-content: center;background-color: white;position: relative;}#sk-container-id-1 div.sk-item::before, #sk-container-id-1 div.sk-parallel-item::before {content: \"\";position: absolute;border-left: 1px solid gray;box-sizing: border-box;top: 0;bottom: 0;left: 50%;z-index: -1;}#sk-container-id-1 div.sk-parallel-item {display: flex;flex-direction: column;z-index: 1;position: relative;background-color: white;}#sk-container-id-1 div.sk-parallel-item:first-child::after {align-self: flex-end;width: 50%;}#sk-container-id-1 div.sk-parallel-item:last-child::after {align-self: flex-start;width: 50%;}#sk-container-id-1 div.sk-parallel-item:only-child::after {width: 0;}#sk-container-id-1 div.sk-dashed-wrapped {border: 1px dashed gray;margin: 0 0.4em 0.5em 0.4em;box-sizing: border-box;padding-bottom: 0.4em;background-color: white;}#sk-container-id-1 div.sk-label label {font-family: monospace;font-weight: bold;display: inline-block;line-height: 1.2em;}#sk-container-id-1 div.sk-label-container {text-align: center;}#sk-container-id-1 div.sk-container {/* jupyter's `normalize.less` sets `[hidden] { display: none; }` but bootstrap.min.css set `[hidden] { display: none !important; }` so we also need the `!important` here to be able to override the default hidden behavior on the sphinx rendered scikit-learn.org. See: https://github.com/scikit-learn/scikit-learn/issues/21755 */display: inline-block !important;position: relative;}#sk-container-id-1 div.sk-text-repr-fallback {display: none;}</style><div id=\"sk-container-id-1\" class=\"sk-top-container\"><div class=\"sk-text-repr-fallback\"><pre>SVR(C=100, gamma=0.1)</pre><b>In a Jupyter environment, please rerun this cell to show the HTML representation or trust the notebook. <br />On GitHub, the HTML representation is unable to render, please try loading this page with nbviewer.org.</b></div><div class=\"sk-container\" hidden><div class=\"sk-item\"><div class=\"sk-estimator sk-toggleable\"><input class=\"sk-toggleable__control sk-hidden--visually\" id=\"sk-estimator-id-1\" type=\"checkbox\" checked><label for=\"sk-estimator-id-1\" class=\"sk-toggleable__label sk-toggleable__label-arrow\">SVR</label><div class=\"sk-toggleable__content\"><pre>SVR(C=100, gamma=0.1)</pre></div></div></div></div></div>"
     },
     "execution_count": 7,
     "metadata": {},
     "output_type": "execute_result"
    }
   ],
   "source": [
    "model = SVR(kernel=\"rbf\", C=100, gamma=0.1)  # Support Vector Regression\n",
    "\n",
    "print(\"\\n🚀 Training OSNR Prediction Model...\")\n",
    "model.fit(X_train, y_train)"
   ]
  },
  {
   "cell_type": "code",
   "execution_count": 8,
   "outputs": [],
   "source": [
    "y_pred = model.predict(X_test)"
   ],
   "metadata": {
    "collapsed": false,
    "ExecuteTime": {
     "end_time": "2025-03-25T22:14:07.210983Z",
     "start_time": "2025-03-25T22:14:07.207016Z"
    }
   },
   "id": "366151c611554bf6"
  },
  {
   "cell_type": "code",
   "execution_count": 9,
   "outputs": [
    {
     "name": "stdout",
     "output_type": "stream",
     "text": [
      "\n",
      "✅ OSNR Prediction Model Evaluation:\n",
      "📏 Mean Absolute Error (MAE): 1.2641\n",
      "📏 Mean Squared Error (MSE): 3.7857\n",
      "📏 R² Score: 0.9342\n"
     ]
    }
   ],
   "source": [
    "mae = mean_absolute_error(y_test, y_pred)\n",
    "mse = mean_squared_error(y_test, y_pred)\n",
    "r2 = r2_score(y_test, y_pred)\n",
    "\n",
    "print(\"\\n✅ OSNR Prediction Model Evaluation:\")\n",
    "print(f\"📏 Mean Absolute Error (MAE): {mae:.4f}\")\n",
    "print(f\"📏 Mean Squared Error (MSE): {mse:.4f}\")\n",
    "print(f\"📏 R² Score: {r2:.4f}\")"
   ],
   "metadata": {
    "collapsed": false,
    "ExecuteTime": {
     "end_time": "2025-03-25T22:14:08.658517Z",
     "start_time": "2025-03-25T22:14:08.646809Z"
    }
   },
   "id": "12c2a57b1184ed2c"
  },
  {
   "cell_type": "code",
   "execution_count": null,
   "outputs": [],
   "source": [],
   "metadata": {
    "collapsed": false
   },
   "id": "6eeba353082d05e4"
  }
 ],
 "metadata": {
  "kernelspec": {
   "display_name": "Python 3",
   "language": "python",
   "name": "python3"
  },
  "language_info": {
   "codemirror_mode": {
    "name": "ipython",
    "version": 2
   },
   "file_extension": ".py",
   "mimetype": "text/x-python",
   "name": "python",
   "nbconvert_exporter": "python",
   "pygments_lexer": "ipython2",
   "version": "2.7.6"
  }
 },
 "nbformat": 4,
 "nbformat_minor": 5
}
